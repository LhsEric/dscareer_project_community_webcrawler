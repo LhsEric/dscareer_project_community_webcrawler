{
  "nbformat": 4,
  "nbformat_minor": 0,
  "metadata": {
    "colab": {
      "provenance": [],
      "authorship_tag": "ABX9TyO7TD9w+gWd19pTq4exYlcp",
      "include_colab_link": true
    },
    "kernelspec": {
      "name": "python3",
      "display_name": "Python 3"
    },
    "language_info": {
      "name": "python"
    }
  },
  "cells": [
    {
      "cell_type": "markdown",
      "metadata": {
        "id": "view-in-github",
        "colab_type": "text"
      },
      "source": [
        "<a href=\"https://colab.research.google.com/github/LhsEric/webcrawler/blob/main/%E5%B0%88%E6%A1%88%E5%AF%A6%E4%BD%9C%EF%BC%88I%EF%BC%89%E7%88%AC%E8%9F%B2%E8%B3%87%E6%96%99%E6%94%B6%E9%9B%86.ipynb\" target=\"_parent\"><img src=\"https://colab.research.google.com/assets/colab-badge.svg\" alt=\"Open In Colab\"/></a>"
      ]
    },
    {
      "cell_type": "markdown",
      "source": [
        "# 專案實作（I）爬蟲資料收集\n"
      ],
      "metadata": {
        "id": "PNgbmONCCpww"
      }
    },
    {
      "cell_type": "code",
      "execution_count": 1,
      "metadata": {
        "id": "V_GZ-XEUCkV_"
      },
      "outputs": [],
      "source": [
        "import requests\n",
        "import json"
      ]
    }
  ]
}