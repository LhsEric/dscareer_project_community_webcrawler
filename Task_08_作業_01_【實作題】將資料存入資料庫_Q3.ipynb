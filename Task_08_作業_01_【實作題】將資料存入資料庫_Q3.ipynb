{
  "nbformat": 4,
  "nbformat_minor": 0,
  "metadata": {
    "colab": {
      "provenance": [],
      "authorship_tag": "ABX9TyNx3Jk39j+XApnxD4B5korh",
      "include_colab_link": true
    },
    "kernelspec": {
      "name": "python3",
      "display_name": "Python 3"
    },
    "language_info": {
      "name": "python"
    }
  },
  "cells": [
    {
      "cell_type": "markdown",
      "metadata": {
        "id": "view-in-github",
        "colab_type": "text"
      },
      "source": [
        "<a href=\"https://colab.research.google.com/github/LhsEric/webcrawler/blob/main/Task_08_%E4%BD%9C%E6%A5%AD_01_%E3%80%90%E5%AF%A6%E4%BD%9C%E9%A1%8C%E3%80%91%E5%B0%87%E8%B3%87%E6%96%99%E5%AD%98%E5%85%A5%E8%B3%87%E6%96%99%E5%BA%AB_Q3.ipynb\" target=\"_parent\"><img src=\"https://colab.research.google.com/assets/colab-badge.svg\" alt=\"Open In Colab\"/></a>"
      ]
    },
    {
      "cell_type": "markdown",
      "source": [
        "#Task #08 作業#01 【實作題】將資料存入資料庫 「各地區的剩餘口罩」"
      ],
      "metadata": {
        "id": "oycKwRf1Imnh"
      }
    },
    {
      "cell_type": "code",
      "source": [
        "import sqlite3\n",
        "import datetime\n",
        "import requests\n",
        "import json\n",
        "\n",
        "conn = sqlite3.connect('example.db')\n",
        "c = conn.cursor()\n",
        "\n",
        "# 新增且清空資料表\n",
        "c.execute('''CREATE TABLE IF NOT EXISTS masks\n",
        "             (city text, counts text, createdAt datetime)''')\n",
        "c.execute('''DELETE FROM masks''')\n",
        "conn.commit()\n",
        "\n",
        "# 新增資料\n",
        "url = \"https://raw.githubusercontent.com/kiang/pharmacies/master/json/points.json\"\n",
        "response = requests.get(url)\n",
        "d = response.text\n",
        "data = json.loads(d)\n",
        "\n",
        "\n",
        "mask_count = {}\n",
        "for d in data['features']:\n",
        "  county = d['properties']['county']\n",
        "  mask_adult = d['properties']['mask_adult']\n",
        "  if county not in mask_count:\n",
        "    mask_count[county] = mask_adult\n",
        "  else:\n",
        "    mask_count[county] += mask_adult\n",
        "\n",
        "\n",
        "for city, count in mask_count.items():\n",
        "  t = datetime.datetime.now()\n",
        "  print(f\"INSERT INTO masks VALUES ('{city}', {count}, '{t}')\")\n",
        "  conn.commit()\n",
        "\n",
        "# 查詢資料\n",
        "c.execute(\"SELECT * FROM masks\")\n",
        "print(c.fetchall)\n",
        "\n",
        "conn.commit()\n",
        "conn.close()"
      ],
      "metadata": {
        "colab": {
          "base_uri": "https://localhost:8080/"
        },
        "id": "WWhqzYtoJCcI",
        "outputId": "a28d68d7-cc99-4788-cd08-467d0211f63c"
      },
      "execution_count": 4,
      "outputs": [
        {
          "output_type": "stream",
          "name": "stdout",
          "text": [
            "INSERT INTO masks VALUES ('臺北市', 322490, '2024-05-27 08:38:40.901776')\n",
            "INSERT INTO masks VALUES ('', 69210, '2024-05-27 08:38:40.901940')\n",
            "INSERT INTO masks VALUES ('高雄市', 424170, '2024-05-27 08:38:40.901979')\n",
            "INSERT INTO masks VALUES ('臺中市', 536710, '2024-05-27 08:38:40.902012')\n",
            "INSERT INTO masks VALUES ('臺南市', 393900, '2024-05-27 08:38:40.902045')\n",
            "INSERT INTO masks VALUES ('基隆市', 80100, '2024-05-27 08:38:40.902077')\n",
            "INSERT INTO masks VALUES ('新竹市', 45630, '2024-05-27 08:38:40.902168')\n",
            "INSERT INTO masks VALUES ('嘉義市', 107840, '2024-05-27 08:38:40.902201')\n",
            "INSERT INTO masks VALUES ('新北市', 670270, '2024-05-27 08:38:40.902232')\n",
            "INSERT INTO masks VALUES ('桃園市', 331940, '2024-05-27 08:38:40.902260')\n",
            "INSERT INTO masks VALUES ('新竹縣', 51350, '2024-05-27 08:38:40.902302')\n",
            "INSERT INTO masks VALUES ('宜蘭縣', 106900, '2024-05-27 08:38:40.907401')\n",
            "INSERT INTO masks VALUES ('苗栗縣', 131080, '2024-05-27 08:38:40.907545')\n",
            "INSERT INTO masks VALUES ('彰化縣', 219400, '2024-05-27 08:38:40.907576')\n",
            "INSERT INTO masks VALUES ('南投縣', 91240, '2024-05-27 08:38:40.907607')\n",
            "INSERT INTO masks VALUES ('雲林縣', 196990, '2024-05-27 08:38:40.907660')\n",
            "INSERT INTO masks VALUES ('嘉義縣', 113180, '2024-05-27 08:38:40.907688')\n",
            "INSERT INTO masks VALUES ('屏東縣', 184250, '2024-05-27 08:38:40.907723')\n",
            "INSERT INTO masks VALUES ('澎湖縣', 12600, '2024-05-27 08:38:40.907751')\n",
            "INSERT INTO masks VALUES ('花蓮縣', 57330, '2024-05-27 08:38:40.907780')\n",
            "INSERT INTO masks VALUES ('臺東縣', 28510, '2024-05-27 08:38:40.907809')\n",
            "INSERT INTO masks VALUES ('金門縣', 15510, '2024-05-27 08:38:40.907837')\n",
            "INSERT INTO masks VALUES ('連江縣', 7930, '2024-05-27 08:38:40.907866')\n",
            "<built-in method fetchall of sqlite3.Cursor object at 0x7e802d36c4c0>\n"
          ]
        }
      ]
    },
    {
      "cell_type": "code",
      "source": [],
      "metadata": {
        "id": "DjZOJ0b6K7CD"
      },
      "execution_count": null,
      "outputs": []
    }
  ]
}