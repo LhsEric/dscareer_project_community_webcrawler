{
  "nbformat": 4,
  "nbformat_minor": 0,
  "metadata": {
    "colab": {
      "provenance": [],
      "authorship_tag": "ABX9TyPW4y19W7UlUTQbuZcqiSxt",
      "include_colab_link": true
    },
    "kernelspec": {
      "name": "python3",
      "display_name": "Python 3"
    },
    "language_info": {
      "name": "python"
    }
  },
  "cells": [
    {
      "cell_type": "markdown",
      "metadata": {
        "id": "view-in-github",
        "colab_type": "text"
      },
      "source": [
        "<a href=\"https://colab.research.google.com/github/LhsEric/webcrawler/blob/main/Task_09_%E4%BD%9C%E6%A5%AD_01_%E3%80%90%E5%AF%A6%E4%BD%9C%E9%A1%8C%E3%80%91%E6%96%B0%E8%81%9E%E8%AA%9E%E6%96%99%E9%97%9C%E9%8D%B5%E5%AD%97%E5%88%86%E6%9E%90.ipynb\" target=\"_parent\"><img src=\"https://colab.research.google.com/assets/colab-badge.svg\" alt=\"Open In Colab\"/></a>"
      ]
    },
    {
      "cell_type": "markdown",
      "source": [
        "# Task #09 作業#01 【實作題】新聞語料關鍵字分析"
      ],
      "metadata": {
        "id": "rJZvnvsLT_TY"
      }
    },
    {
      "cell_type": "code",
      "source": [
        "# 利用 聯合新聞網 作為主要的文本來源，將範例收集回來的新聞內文存在一個 List 容器變數 `news` 內\n",
        "\n",
        "import requests\n",
        "from bs4 import BeautifulSoup\n",
        "\n",
        "# 利用 requests 對 API 來源發送一個請求\n",
        "response = requests.get('https://udn.com/news/breaknews/1')\n",
        "soup = BeautifulSoup(response.text)\n",
        "\n",
        "'''\n",
        "Your Code # 定義變數名稱\n",
        "'''\n",
        "for link in soup.find_all('h3', class_='rounded-thumb__title')[:4]:\n",
        "  news_url = link.a['href']\n",
        "  news_response = requests.get('https://udn.com' + news_url)\n",
        "  news_soup = BeautifulSoup(news_response.text)\n",
        "  news_content = news_soup.find('div', class_='article-content__paragraph').text.strip().replace('\\n', ' ')\n",
        "  '''\n",
        "  Your Code\n",
        "  '''"
      ],
      "metadata": {
        "id": "VdNzX8vvT9J3"
      },
      "execution_count": null,
      "outputs": []
    }
  ]
}