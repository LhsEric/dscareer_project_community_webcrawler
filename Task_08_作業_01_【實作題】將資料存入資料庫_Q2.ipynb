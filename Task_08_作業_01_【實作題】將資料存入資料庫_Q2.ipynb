{
  "nbformat": 4,
  "nbformat_minor": 0,
  "metadata": {
    "colab": {
      "provenance": [],
      "authorship_tag": "ABX9TyM5PFEJraotxAr+b1TtfNBJ",
      "include_colab_link": true
    },
    "kernelspec": {
      "name": "python3",
      "display_name": "Python 3"
    },
    "language_info": {
      "name": "python"
    }
  },
  "cells": [
    {
      "cell_type": "markdown",
      "metadata": {
        "id": "view-in-github",
        "colab_type": "text"
      },
      "source": [
        "<a href=\"https://colab.research.google.com/github/LhsEric/webcrawler/blob/main/Task_08_%E4%BD%9C%E6%A5%AD_01_%E3%80%90%E5%AF%A6%E4%BD%9C%E9%A1%8C%E3%80%91%E5%B0%87%E8%B3%87%E6%96%99%E5%AD%98%E5%85%A5%E8%B3%87%E6%96%99%E5%BA%AB_Q2.ipynb\" target=\"_parent\"><img src=\"https://colab.research.google.com/assets/colab-badge.svg\" alt=\"Open In Colab\"/></a>"
      ]
    },
    {
      "cell_type": "markdown",
      "source": [
        "# 爬蟲資料收集"
      ],
      "metadata": {
        "id": "NNSvYKvbpXeN"
      }
    },
    {
      "cell_type": "markdown",
      "source": [
        "# Task 08 作業#01 【實作題】將資料存入資料庫 「各地區的藥局數量」"
      ],
      "metadata": {
        "id": "c9xxv7960qRu"
      }
    },
    {
      "cell_type": "code",
      "execution_count": 5,
      "metadata": {
        "id": "5SAGW2-8nyKI",
        "colab": {
          "base_uri": "https://localhost:8080/"
        },
        "outputId": "04e279af-fae0-47dd-f35d-f89437c31c1b"
      },
      "outputs": [
        {
          "output_type": "stream",
          "name": "stdout",
          "text": [
            "[('臺北市', '339', '2024-05-27 08:37:49.354907'), ('', '49', '2024-05-27 08:37:49.365743'), ('高雄市', '422', '2024-05-27 08:37:49.378385'), ('臺中市', '420', '2024-05-27 08:37:49.389185'), ('臺南市', '271', '2024-05-27 08:37:49.398371'), ('基隆市', '57', '2024-05-27 08:37:49.407560'), ('新竹市', '39', '2024-05-27 08:37:49.416784'), ('嘉義市', '67', '2024-05-27 08:37:49.427452'), ('新北市', '501', '2024-05-27 08:37:49.435809'), ('桃園市', '264', '2024-05-27 08:37:49.445138'), ('新竹縣', '46', '2024-05-27 08:37:49.467783'), ('宜蘭縣', '76', '2024-05-27 08:37:49.478050'), ('苗栗縣', '56', '2024-05-27 08:37:49.488164'), ('彰化縣', '179', '2024-05-27 08:37:49.497243'), ('南投縣', '67', '2024-05-27 08:37:49.505766'), ('雲林縣', '129', '2024-05-27 08:37:49.515082'), ('嘉義縣', '84', '2024-05-27 08:37:49.524646'), ('屏東縣', '140', '2024-05-27 08:37:49.533376'), ('澎湖縣', '11', '2024-05-27 08:37:49.541926'), ('花蓮縣', '46', '2024-05-27 08:37:49.550197'), ('臺東縣', '23', '2024-05-27 08:37:49.558546'), ('金門縣', '6', '2024-05-27 08:37:49.569391'), ('連江縣', '1', '2024-05-27 08:37:49.580094')]\n"
          ]
        }
      ],
      "source": [
        "import sqlite3\n",
        "import datetime\n",
        "import requests\n",
        "import json\n",
        "\n",
        "conn = sqlite3.connect('example.db')\n",
        "c = conn.cursor()\n",
        "\n",
        "# 新增且清空資料表\n",
        "c.execute('''CREATE TABLE IF NOT EXISTS pharmacies\n",
        "             (city text, counts text, createdAt datetime)''')\n",
        "c.execute('''DELETE FROM pharmacies''')\n",
        "conn.commit()\n",
        "\n",
        "# 新增資料\n",
        "url = \"https://raw.githubusercontent.com/kiang/pharmacies/master/json/points.json\"\n",
        "response = requests.get(url)\n",
        "d = response.text\n",
        "data = json.loads(d)\n",
        "\n",
        "med_count = {}\n",
        "\n",
        "for d in data['features']:\n",
        "    county = d['properties']['county']\n",
        "    if county not in med_count:\n",
        "         med_count[county] = 0\n",
        "    med_count[county] += 1\n",
        "\n",
        "# 將每一筆資料分別取出來新增到資料庫\n",
        "for city, count in med_count.items():\n",
        "  t = datetime.datetime.now()\n",
        "  #print(f\"INSERT INTO stocks VALUES ('{city}', {count}, '{t}')\")\n",
        "  c.execute(f\"INSERT INTO pharmacies VALUES ('{city}', {count}, '{t}')\")\n",
        "  conn.commit()\n",
        "\n",
        "# 查詢資料\n",
        "c.execute(\"SELECT * FROM pharmacies\")\n",
        "print(c.fetchall())\n",
        "\n",
        "conn.commit()\n",
        "conn.close()"
      ]
    }
  ]
}